{
 "cells": [
  {
   "cell_type": "code",
   "execution_count": 4,
   "metadata": {},
   "outputs": [],
   "source": [
    "import requests\n",
    "from bs4 import BeautifulSoup\n",
    "import pandas as pd"
   ]
  },
  {
   "cell_type": "code",
   "execution_count": 7,
   "metadata": {},
   "outputs": [],
   "source": [
    "n = int(input())\n",
    "data = []\n",
    "for i in range(1,n+1):\n",
    "    response = requests.get(f\"https://kin.naver.com/search/list.naver?query=%EC%82%BC%EC%84%B1%EC%A0%84%EC%9E%90&page={i}\")\n",
    "    html=response.text\n",
    "    soup=BeautifulSoup(html,'html.parser')\n",
    "    mts = soup.select(\".basic1 > li > dl \")\n",
    "    for mt in mts:\n",
    "        title =mt.select_one(\"a:nth-of-type(1)\").text\n",
    "        link = mt.select_one(\"a:nth-of-type(1)\").attrs['href']\n",
    "        date = mt.select_one(\".txt_inline\").text\n",
    "        cate = mt.select_one(\"a:nth-of-type(2)\").text\n",
    "        num = mt.select_one(\"span:nth-of-type(2)\").text.split()[1]\n",
    "        data.append([title,link,date,cate,int(num)])\n"
   ]
  },
  {
   "cell_type": "code",
   "execution_count": 9,
   "metadata": {},
   "outputs": [],
   "source": [
    "df = pd.DataFrame(data,columns=['제목','링크','날짜','카테고리','수'])\n",
    "df.to_excel('naverrequest.xlsx')\n",
    "#soup.select_one(\"._nclicks\\\\:kin\\\\.txt\")\n",
    "#_nclicks:kin.txt._searchListTitleAnchor\n",
    "#txt_block > span:nth-of-type(2)\n"
   ]
  }
 ],
 "metadata": {
  "kernelspec": {
   "display_name": "Python 3",
   "language": "python",
   "name": "python3"
  },
  "language_info": {
   "codemirror_mode": {
    "name": "ipython",
    "version": 3
   },
   "file_extension": ".py",
   "mimetype": "text/x-python",
   "name": "python",
   "nbconvert_exporter": "python",
   "pygments_lexer": "ipython3",
   "version": "3.12.1"
  }
 },
 "nbformat": 4,
 "nbformat_minor": 2
}
