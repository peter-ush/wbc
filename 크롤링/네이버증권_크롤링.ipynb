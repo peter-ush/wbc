{
 "cells": [
  {
   "cell_type": "code",
   "execution_count": 3,
   "metadata": {},
   "outputs": [],
   "source": [
    "import requests\n",
    "from bs4 import BeautifulSoup\n",
    "\n",
    "response = requests.get(\"https://finance.naver.com/news/mainnews.naver\")\n",
    "html=response.text\n",
    "soup=BeautifulSoup(html,'html.parser')"
   ]
  },
  {
   "cell_type": "code",
   "execution_count": 47,
   "metadata": {},
   "outputs": [],
   "source": [
    "titles = soup.select(\".articleSubject\")\n",
    "\n",
    "links = soup.select(\".articleSubject > a\")\n",
    "things = soup.select(\".articleSummary\")\n",
    "Summarys = []\n",
    "date = []\n",
    "press = []\n",
    "th = []\n",
    "for thing in things:\n",
    "    th.append(thing.text.strip().split('\\n'))\n",
    "\n",
    "for a in th:\n",
    "    Summarys.append(a[0])\n",
    "    date.append(a[3])\n",
    "    press.append(a[1].strip())\n",
    "\n",
    "import pandas as pd\n",
    "\n",
    "data = []\n",
    "\n",
    "for i in range(20):\n",
    "    data.append([titles[i].text,links[i].attrs['href'],Summarys[i],press[i],date[i]])\n",
    "df = pd.DataFrame(data,columns=['제목','링크','내용','언론사','날짜'])\n",
    "df.to_excel('result.xlsx')"
   ]
  }
 ],
 "metadata": {
  "kernelspec": {
   "display_name": "Python 3",
   "language": "python",
   "name": "python3"
  },
  "language_info": {
   "codemirror_mode": {
    "name": "ipython",
    "version": 3
   },
   "file_extension": ".py",
   "mimetype": "text/x-python",
   "name": "python",
   "nbconvert_exporter": "python",
   "pygments_lexer": "ipython3",
   "version": "3.12.1"
  }
 },
 "nbformat": 4,
 "nbformat_minor": 2
}
