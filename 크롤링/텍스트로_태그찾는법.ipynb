{
 "cells": [
  {
   "cell_type": "code",
   "execution_count": 1,
   "metadata": {},
   "outputs": [],
   "source": [
    "import requests\n",
    "from bs4 import BeautifulSoup\n",
    "\n",
    "response = requests.get(\"https://startcoding.pythonanywhere.com/basic\")\n",
    "html=response.text\n",
    "soup=BeautifulSoup(html,'html.parser')\n"
   ]
  },
  {
   "cell_type": "code",
   "execution_count": 2,
   "metadata": {},
   "outputs": [
    {
     "data": {
      "text/plain": [
       "<p class=\"product-category\">노트북</p>"
      ]
     },
     "execution_count": 2,
     "metadata": {},
     "output_type": "execute_result"
    }
   ],
   "source": [
    "soup.find('p',string='노트북')"
   ]
  },
  {
   "cell_type": "code",
   "execution_count": 3,
   "metadata": {},
   "outputs": [
    {
     "data": {
      "text/plain": [
       "[<p class=\"product-category\">노트북</p>,\n",
       " <p class=\"product-category\">노트북</p>,\n",
       " <p class=\"product-category\">노트북</p>,\n",
       " <p class=\"product-category\">노트북</p>,\n",
       " <p class=\"product-category\">노트북</p>,\n",
       " <p class=\"product-category\">노트북</p>,\n",
       " <p class=\"product-category\">노트북</p>,\n",
       " <p class=\"product-category\">노트북</p>,\n",
       " <p class=\"product-category\">노트북</p>,\n",
       " <p class=\"product-category\">노트북</p>]"
      ]
     },
     "execution_count": 3,
     "metadata": {},
     "output_type": "execute_result"
    }
   ],
   "source": [
    "soup.find_all('p',string=\"노트북\")"
   ]
  },
  {
   "cell_type": "code",
   "execution_count": 7,
   "metadata": {},
   "outputs": [],
   "source": [
    "soup.find('a',string='그레이')"
   ]
  },
  {
   "cell_type": "code",
   "execution_count": 9,
   "metadata": {},
   "outputs": [
    {
     "data": {
      "text/plain": [
       "<a href=\"#product1_detail.html\">에이서 스위프트 GO 16 OLED, 스틸 그레이, 코어i7, 512GB, 16GB, WIN11 Home, SFG16-71-77FT</a>"
      ]
     },
     "execution_count": 9,
     "metadata": {},
     "output_type": "execute_result"
    }
   ],
   "source": [
    "import re\n",
    "\n",
    "soup.find('a',string=re.compile('그레이'))"
   ]
  },
  {
   "cell_type": "code",
   "execution_count": 10,
   "metadata": {},
   "outputs": [
    {
     "data": {
      "text/plain": [
       "[<a href=\"#product1_detail.html\">에이서 스위프트 GO 16 OLED, 스틸 그레이, 코어i7, 512GB, 16GB, WIN11 Home, SFG16-71-77FT</a>,\n",
       " <a href=\"#product5_detail.html\">LG 울트라PC 엣지 16, 차콜 그레이, 라이젠5, 256GB, 16GB, WIN11 Home, 16U70R-GA56K</a>,\n",
       " <a href=\"#product9_detail.html\">에이서 스위프트 GO 16 OLED, 스틸 그레이, 코어i5, 512GB, 16GB, Free DOS, SFG16-71-51BY</a>]"
      ]
     },
     "execution_count": 10,
     "metadata": {},
     "output_type": "execute_result"
    }
   ],
   "source": [
    "soup.find_all('a',string=re.compile('그레이'))"
   ]
  },
  {
   "cell_type": "code",
   "execution_count": 12,
   "metadata": {},
   "outputs": [
    {
     "data": {
      "text/plain": [
       "[<a href=\"#product2_detail.html\">삼성전자 노트북 플러스2 15.6, 퓨어 화이트, NT550XDA-K24AT, 펜티엄, 256GB, 8GB, WIN11 Pro</a>,\n",
       " <a href=\"#product10_detail.html\">삼성전자 갤럭시북 2 15.6, 500GB, 실버, NT550XED-K78AS, 코어i7, 16GB, WIN11 Home</a>]"
      ]
     },
     "execution_count": 12,
     "metadata": {},
     "output_type": "execute_result"
    }
   ],
   "source": [
    "soup.find_all('a',string=re.compile('^삼성전자'))"
   ]
  },
  {
   "cell_type": "code",
   "execution_count": 13,
   "metadata": {},
   "outputs": [
    {
     "data": {
      "text/plain": [
       "[<a href=\"#product4_detail.html\">레노버 V15 G4 AMN 15.6, Arctic Grey, 라이젠3, 256GB, 8GB, WIN11 Home, 82YU0009KR</a>,\n",
       " <a href=\"#product7_detail.html\">레노버 아이디어패드 슬림 5i 14IRL 14, Cloud Grey, 코어i5, 512GB, 16GB, Free DOS, 82XD002XKR</a>,\n",
       " <a href=\"#product8_detail.html\">레노버 아이디어패드 슬림 5 16IRL 16, Cloud Grey, 512GB, 16GB, Free DOS, 82XF001RKR</a>]"
      ]
     },
     "execution_count": 13,
     "metadata": {},
     "output_type": "execute_result"
    }
   ],
   "source": [
    "soup.find_all('a',string=re.compile('KR$'))"
   ]
  },
  {
   "cell_type": "code",
   "execution_count": 15,
   "metadata": {},
   "outputs": [
    {
     "data": {
      "text/plain": [
       "[<h4 class=\"product-price\">1,419,000원\n",
       " \t\t\t\t\t\t\t\t\t\t\n",
       " \t\t\t\t\t\t\t\t\t</h4>,\n",
       " <h4 class=\"product-price\">549,000원\n",
       " \t\t\t\t\t\t\t\t\t\t\n",
       " \t\t\t\t\t\t\t\t\t</h4>,\n",
       " <h4 class=\"product-price\">529,000원\n",
       " \t\t\t\t\t\t\t\t\t\t\n",
       " \t\t\t\t\t\t\t\t\t</h4>,\n",
       " <h4 class=\"product-price\">1,135,000원\n",
       " \t\t\t\t\t\t\t\t\t\t\n",
       " \t\t\t\t\t\t\t\t\t</h4>,\n",
       " <h4 class=\"product-price\">398,000원\n",
       " \t\t\t\t\t\t\t\t\t\t\n",
       " \t\t\t\t\t\t\t\t\t</h4>,\n",
       " <h4 class=\"product-price\">929,000원\n",
       " \t\t\t\t\t\t\t\t\t\t\n",
       " \t\t\t\t\t\t\t\t\t</h4>,\n",
       " <h4 class=\"product-price\">1,008,000원\n",
       " \t\t\t\t\t\t\t\t\t\t\n",
       " \t\t\t\t\t\t\t\t\t</h4>,\n",
       " <h4 class=\"product-price\">1,149,000원\n",
       " \t\t\t\t\t\t\t\t\t\t\n",
       " \t\t\t\t\t\t\t\t\t</h4>]"
      ]
     },
     "execution_count": 15,
     "metadata": {},
     "output_type": "execute_result"
    }
   ],
   "source": [
    "#요소 내부에 다른 태그가 있을 경우,문자열 매칭이 제대로 동작하지 않음.\n",
    "soup.find_all('h4',string=re.compile('원'))"
   ]
  },
  {
   "cell_type": "code",
   "execution_count": 27,
   "metadata": {},
   "outputs": [
    {
     "data": {
      "text/plain": [
       "['1,419,000원\\n\\t\\t\\t\\t\\t\\t\\t\\t\\t\\t\\n\\t\\t\\t\\t\\t\\t\\t\\t\\t',\n",
       " '549,000원\\n\\t\\t\\t\\t\\t\\t\\t\\t\\t\\t\\n\\t\\t\\t\\t\\t\\t\\t\\t\\t',\n",
       " '529,000원\\n\\t\\t\\t\\t\\t\\t\\t\\t\\t\\t\\n\\t\\t\\t\\t\\t\\t\\t\\t\\t',\n",
       " '624,000원\\n\\t\\t\\t\\t\\t\\t\\t\\t\\t\\t\\n\\t\\t\\t\\t\\t\\t\\t\\t\\t\\t649,000\\n',\n",
       " '1,135,000원\\n\\t\\t\\t\\t\\t\\t\\t\\t\\t\\t\\n\\t\\t\\t\\t\\t\\t\\t\\t\\t',\n",
       " '398,000원\\n\\t\\t\\t\\t\\t\\t\\t\\t\\t\\t\\n\\t\\t\\t\\t\\t\\t\\t\\t\\t',\n",
       " '899,000원\\n\\t\\t\\t\\t\\t\\t\\t\\t\\t\\t\\n\\t\\t\\t\\t\\t\\t\\t\\t\\t\\t1,099,000\\n',\n",
       " '929,000원\\n\\t\\t\\t\\t\\t\\t\\t\\t\\t\\t\\n\\t\\t\\t\\t\\t\\t\\t\\t\\t',\n",
       " '1,008,000원\\n\\t\\t\\t\\t\\t\\t\\t\\t\\t\\t\\n\\t\\t\\t\\t\\t\\t\\t\\t\\t',\n",
       " '1,149,000원\\n\\t\\t\\t\\t\\t\\t\\t\\t\\t\\t\\n\\t\\t\\t\\t\\t\\t\\t\\t\\t']"
      ]
     },
     "execution_count": 27,
     "metadata": {},
     "output_type": "execute_result"
    }
   ],
   "source": [
    "#(심화) 요소 내부에 다른태그가 있을 경우\n",
    "result=[]\n",
    "tags = soup.select('.product-price')\n",
    "for tag in tags:\n",
    "    if '원' in tag.contents[0]:\n",
    "        result.append(tag.text)\n",
    "result"
   ]
  },
  {
   "cell_type": "code",
   "execution_count": null,
   "metadata": {},
   "outputs": [],
   "source": []
  }
 ],
 "metadata": {
  "kernelspec": {
   "display_name": "Python 3",
   "language": "python",
   "name": "python3"
  },
  "language_info": {
   "codemirror_mode": {
    "name": "ipython",
    "version": 3
   },
   "file_extension": ".py",
   "mimetype": "text/x-python",
   "name": "python",
   "nbconvert_exporter": "python",
   "pygments_lexer": "ipython3",
   "version": "3.12.1"
  }
 },
 "nbformat": 4,
 "nbformat_minor": 2
}
